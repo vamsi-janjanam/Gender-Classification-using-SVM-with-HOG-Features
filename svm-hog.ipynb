{
 "cells": [
  {
   "cell_type": "code",
   "execution_count": null,
   "id": "18dda226",
   "metadata": {
    "_cell_guid": "b1076dfc-b9ad-4769-8c92-a6c4dae69d19",
    "_uuid": "8f2839f25d086af736a60e9eeb907d3b93b6e0e5",
    "papermill": {
     "duration": 0.033652,
     "end_time": "2022-05-07T02:06:21.456106",
     "exception": false,
     "start_time": "2022-05-07T02:06:21.422454",
     "status": "completed"
    },
    "tags": []
   },
   "outputs": [],
   "source": []
  },
  {
   "cell_type": "code",
   "execution_count": 1,
   "id": "c23e25a2",
   "metadata": {
    "execution": {
     "iopub.execute_input": "2022-05-07T02:06:21.523278Z",
     "iopub.status.busy": "2022-05-07T02:06:21.522248Z",
     "iopub.status.idle": "2022-05-07T02:06:29.356609Z",
     "shell.execute_reply": "2022-05-07T02:06:29.355806Z"
    },
    "papermill": {
     "duration": 7.870427,
     "end_time": "2022-05-07T02:06:29.358988",
     "exception": false,
     "start_time": "2022-05-07T02:06:21.488561",
     "status": "completed"
    },
    "tags": []
   },
   "outputs": [
    {
     "name": "stdout",
     "output_type": "stream",
     "text": [
      "celeba-dataset\n",
      "\n"
     ]
    }
   ],
   "source": [
    "import pandas as pd\n",
    "import numpy as np\n",
    "import cv2    \n",
    "import matplotlib.pyplot as plt\n",
    "import seaborn as sns\n",
    "from sklearn.metrics import f1_score\n",
    "\n",
    "from keras import optimizers\n",
    "from keras.applications.inception_v3 import preprocess_input\n",
    "from keras.models import Sequential, Model \n",
    "from keras.layers import Dropout, Flatten, Dense, GlobalAveragePooling2D\n",
    "from keras.callbacks import ModelCheckpoint\n",
    "from keras.preprocessing.image import ImageDataGenerator, array_to_img, img_to_array, load_img\n",
    "from keras.utils import np_utils\n",
    "#from keras.optimizers import SGD\n",
    "#from keras.optimizers import Adam\n",
    "\n",
    "from skimage import color\n",
    "from skimage.feature import hog\n",
    "from sklearn import svm\n",
    "from sklearn.metrics import classification_report,accuracy_score\n",
    "\n",
    "# Input data files are available in the \"../input/\" directory.\n",
    "# For example, running this (by clicking run or pressing Shift+Enter) will list the files in the input directory\n",
    "\n",
    "from subprocess import check_output\n",
    "print(check_output([\"ls\", \"../input\"]).decode(\"utf8\"))\n",
    "\n",
    "from IPython.core.display import display, HTML\n",
    "from PIL import Image\n",
    "from io import BytesIO\n",
    "import base64\n",
    "\n",
    "plt.style.use('ggplot')\n",
    "%matplotlib inline"
   ]
  },
  {
   "cell_type": "code",
   "execution_count": 2,
   "id": "1d1cc71a",
   "metadata": {
    "execution": {
     "iopub.execute_input": "2022-05-07T02:06:29.427387Z",
     "iopub.status.busy": "2022-05-07T02:06:29.426926Z",
     "iopub.status.idle": "2022-05-07T02:06:29.433038Z",
     "shell.execute_reply": "2022-05-07T02:06:29.432137Z"
    },
    "papermill": {
     "duration": 0.042765,
     "end_time": "2022-05-07T02:06:29.435031",
     "exception": false,
     "start_time": "2022-05-07T02:06:29.392266",
     "status": "completed"
    },
    "tags": []
   },
   "outputs": [],
   "source": [
    "main_folder = '../input/celeba-dataset/'\n",
    "images_folder = main_folder + 'img_align_celeba/img_align_celeba/'\n",
    "\n",
    "EXAMPLE_PIC = images_folder + '000506.jpg'\n",
    "\n",
    "TRAINING_SAMPLES = 10000\n",
    "VALIDATION_SAMPLES = 2000\n",
    "TEST_SAMPLES = 2000\n",
    "IMG_WIDTH = 178\n",
    "IMG_HEIGHT = 218\n",
    "BATCH_SIZE = 16\n",
    "NUM_EPOCHS = 3"
   ]
  },
  {
   "cell_type": "code",
   "execution_count": 3,
   "id": "8dceb118",
   "metadata": {
    "execution": {
     "iopub.execute_input": "2022-05-07T02:06:29.502158Z",
     "iopub.status.busy": "2022-05-07T02:06:29.501822Z",
     "iopub.status.idle": "2022-05-07T02:06:30.704167Z",
     "shell.execute_reply": "2022-05-07T02:06:30.703254Z"
    },
    "papermill": {
     "duration": 1.239426,
     "end_time": "2022-05-07T02:06:30.707056",
     "exception": false,
     "start_time": "2022-05-07T02:06:29.467630",
     "status": "completed"
    },
    "tags": []
   },
   "outputs": [
    {
     "data": {
      "text/plain": [
       "(202599, 40)"
      ]
     },
     "execution_count": 3,
     "metadata": {},
     "output_type": "execute_result"
    }
   ],
   "source": [
    "df_attr = pd.read_csv(main_folder + 'list_attr_celeba.csv')\n",
    "df_attr.set_index('image_id', inplace=True)\n",
    "df_attr.replace(to_replace=-1, value=0, inplace=True) #replace -1 by 0\n",
    "df_attr.shape"
   ]
  },
  {
   "cell_type": "code",
   "execution_count": 4,
   "id": "41d925ea",
   "metadata": {
    "execution": {
     "iopub.execute_input": "2022-05-07T02:06:30.776478Z",
     "iopub.status.busy": "2022-05-07T02:06:30.775287Z",
     "iopub.status.idle": "2022-05-07T02:06:30.800124Z",
     "shell.execute_reply": "2022-05-07T02:06:30.799223Z"
    },
    "papermill": {
     "duration": 0.061872,
     "end_time": "2022-05-07T02:06:30.802203",
     "exception": false,
     "start_time": "2022-05-07T02:06:30.740331",
     "status": "completed"
    },
    "tags": []
   },
   "outputs": [
    {
     "data": {
      "text/html": [
       "<div>\n",
       "<style scoped>\n",
       "    .dataframe tbody tr th:only-of-type {\n",
       "        vertical-align: middle;\n",
       "    }\n",
       "\n",
       "    .dataframe tbody tr th {\n",
       "        vertical-align: top;\n",
       "    }\n",
       "\n",
       "    .dataframe thead th {\n",
       "        text-align: right;\n",
       "    }\n",
       "</style>\n",
       "<table border=\"1\" class=\"dataframe\">\n",
       "  <thead>\n",
       "    <tr style=\"text-align: right;\">\n",
       "      <th></th>\n",
       "      <th>5_o_Clock_Shadow</th>\n",
       "      <th>Arched_Eyebrows</th>\n",
       "      <th>Attractive</th>\n",
       "      <th>Bags_Under_Eyes</th>\n",
       "      <th>Bald</th>\n",
       "      <th>Bangs</th>\n",
       "      <th>Big_Lips</th>\n",
       "      <th>Big_Nose</th>\n",
       "      <th>Black_Hair</th>\n",
       "      <th>Blond_Hair</th>\n",
       "      <th>...</th>\n",
       "      <th>Sideburns</th>\n",
       "      <th>Smiling</th>\n",
       "      <th>Straight_Hair</th>\n",
       "      <th>Wavy_Hair</th>\n",
       "      <th>Wearing_Earrings</th>\n",
       "      <th>Wearing_Hat</th>\n",
       "      <th>Wearing_Lipstick</th>\n",
       "      <th>Wearing_Necklace</th>\n",
       "      <th>Wearing_Necktie</th>\n",
       "      <th>Young</th>\n",
       "    </tr>\n",
       "    <tr>\n",
       "      <th>image_id</th>\n",
       "      <th></th>\n",
       "      <th></th>\n",
       "      <th></th>\n",
       "      <th></th>\n",
       "      <th></th>\n",
       "      <th></th>\n",
       "      <th></th>\n",
       "      <th></th>\n",
       "      <th></th>\n",
       "      <th></th>\n",
       "      <th></th>\n",
       "      <th></th>\n",
       "      <th></th>\n",
       "      <th></th>\n",
       "      <th></th>\n",
       "      <th></th>\n",
       "      <th></th>\n",
       "      <th></th>\n",
       "      <th></th>\n",
       "      <th></th>\n",
       "      <th></th>\n",
       "    </tr>\n",
       "  </thead>\n",
       "  <tbody>\n",
       "    <tr>\n",
       "      <th>000001.jpg</th>\n",
       "      <td>0</td>\n",
       "      <td>1</td>\n",
       "      <td>1</td>\n",
       "      <td>0</td>\n",
       "      <td>0</td>\n",
       "      <td>0</td>\n",
       "      <td>0</td>\n",
       "      <td>0</td>\n",
       "      <td>0</td>\n",
       "      <td>0</td>\n",
       "      <td>...</td>\n",
       "      <td>0</td>\n",
       "      <td>1</td>\n",
       "      <td>1</td>\n",
       "      <td>0</td>\n",
       "      <td>1</td>\n",
       "      <td>0</td>\n",
       "      <td>1</td>\n",
       "      <td>0</td>\n",
       "      <td>0</td>\n",
       "      <td>1</td>\n",
       "    </tr>\n",
       "    <tr>\n",
       "      <th>000002.jpg</th>\n",
       "      <td>0</td>\n",
       "      <td>0</td>\n",
       "      <td>0</td>\n",
       "      <td>1</td>\n",
       "      <td>0</td>\n",
       "      <td>0</td>\n",
       "      <td>0</td>\n",
       "      <td>1</td>\n",
       "      <td>0</td>\n",
       "      <td>0</td>\n",
       "      <td>...</td>\n",
       "      <td>0</td>\n",
       "      <td>1</td>\n",
       "      <td>0</td>\n",
       "      <td>0</td>\n",
       "      <td>0</td>\n",
       "      <td>0</td>\n",
       "      <td>0</td>\n",
       "      <td>0</td>\n",
       "      <td>0</td>\n",
       "      <td>1</td>\n",
       "    </tr>\n",
       "    <tr>\n",
       "      <th>000003.jpg</th>\n",
       "      <td>0</td>\n",
       "      <td>0</td>\n",
       "      <td>0</td>\n",
       "      <td>0</td>\n",
       "      <td>0</td>\n",
       "      <td>0</td>\n",
       "      <td>1</td>\n",
       "      <td>0</td>\n",
       "      <td>0</td>\n",
       "      <td>0</td>\n",
       "      <td>...</td>\n",
       "      <td>0</td>\n",
       "      <td>0</td>\n",
       "      <td>0</td>\n",
       "      <td>1</td>\n",
       "      <td>0</td>\n",
       "      <td>0</td>\n",
       "      <td>0</td>\n",
       "      <td>0</td>\n",
       "      <td>0</td>\n",
       "      <td>1</td>\n",
       "    </tr>\n",
       "    <tr>\n",
       "      <th>000004.jpg</th>\n",
       "      <td>0</td>\n",
       "      <td>0</td>\n",
       "      <td>1</td>\n",
       "      <td>0</td>\n",
       "      <td>0</td>\n",
       "      <td>0</td>\n",
       "      <td>0</td>\n",
       "      <td>0</td>\n",
       "      <td>0</td>\n",
       "      <td>0</td>\n",
       "      <td>...</td>\n",
       "      <td>0</td>\n",
       "      <td>0</td>\n",
       "      <td>1</td>\n",
       "      <td>0</td>\n",
       "      <td>1</td>\n",
       "      <td>0</td>\n",
       "      <td>1</td>\n",
       "      <td>1</td>\n",
       "      <td>0</td>\n",
       "      <td>1</td>\n",
       "    </tr>\n",
       "    <tr>\n",
       "      <th>000005.jpg</th>\n",
       "      <td>0</td>\n",
       "      <td>1</td>\n",
       "      <td>1</td>\n",
       "      <td>0</td>\n",
       "      <td>0</td>\n",
       "      <td>0</td>\n",
       "      <td>1</td>\n",
       "      <td>0</td>\n",
       "      <td>0</td>\n",
       "      <td>0</td>\n",
       "      <td>...</td>\n",
       "      <td>0</td>\n",
       "      <td>0</td>\n",
       "      <td>0</td>\n",
       "      <td>0</td>\n",
       "      <td>0</td>\n",
       "      <td>0</td>\n",
       "      <td>1</td>\n",
       "      <td>0</td>\n",
       "      <td>0</td>\n",
       "      <td>1</td>\n",
       "    </tr>\n",
       "  </tbody>\n",
       "</table>\n",
       "<p>5 rows × 40 columns</p>\n",
       "</div>"
      ],
      "text/plain": [
       "            5_o_Clock_Shadow  Arched_Eyebrows  Attractive  Bags_Under_Eyes  \\\n",
       "image_id                                                                     \n",
       "000001.jpg                 0                1           1                0   \n",
       "000002.jpg                 0                0           0                1   \n",
       "000003.jpg                 0                0           0                0   \n",
       "000004.jpg                 0                0           1                0   \n",
       "000005.jpg                 0                1           1                0   \n",
       "\n",
       "            Bald  Bangs  Big_Lips  Big_Nose  Black_Hair  Blond_Hair  ...  \\\n",
       "image_id                                                             ...   \n",
       "000001.jpg     0      0         0         0           0           0  ...   \n",
       "000002.jpg     0      0         0         1           0           0  ...   \n",
       "000003.jpg     0      0         1         0           0           0  ...   \n",
       "000004.jpg     0      0         0         0           0           0  ...   \n",
       "000005.jpg     0      0         1         0           0           0  ...   \n",
       "\n",
       "            Sideburns  Smiling  Straight_Hair  Wavy_Hair  Wearing_Earrings  \\\n",
       "image_id                                                                     \n",
       "000001.jpg          0        1              1          0                 1   \n",
       "000002.jpg          0        1              0          0                 0   \n",
       "000003.jpg          0        0              0          1                 0   \n",
       "000004.jpg          0        0              1          0                 1   \n",
       "000005.jpg          0        0              0          0                 0   \n",
       "\n",
       "            Wearing_Hat  Wearing_Lipstick  Wearing_Necklace  Wearing_Necktie  \\\n",
       "image_id                                                                       \n",
       "000001.jpg            0                 1                 0                0   \n",
       "000002.jpg            0                 0                 0                0   \n",
       "000003.jpg            0                 0                 0                0   \n",
       "000004.jpg            0                 1                 1                0   \n",
       "000005.jpg            0                 1                 0                0   \n",
       "\n",
       "            Young  \n",
       "image_id           \n",
       "000001.jpg      1  \n",
       "000002.jpg      1  \n",
       "000003.jpg      1  \n",
       "000004.jpg      1  \n",
       "000005.jpg      1  \n",
       "\n",
       "[5 rows x 40 columns]"
      ]
     },
     "execution_count": 4,
     "metadata": {},
     "output_type": "execute_result"
    }
   ],
   "source": [
    "df_attr.head()"
   ]
  },
  {
   "cell_type": "code",
   "execution_count": 5,
   "id": "9ff97c19",
   "metadata": {
    "execution": {
     "iopub.execute_input": "2022-05-07T02:06:30.874638Z",
     "iopub.status.busy": "2022-05-07T02:06:30.873855Z",
     "iopub.status.idle": "2022-05-07T02:06:31.176546Z",
     "shell.execute_reply": "2022-05-07T02:06:31.175659Z"
    },
    "papermill": {
     "duration": 0.340603,
     "end_time": "2022-05-07T02:06:31.178857",
     "exception": false,
     "start_time": "2022-05-07T02:06:30.838254",
     "status": "completed"
    },
    "tags": []
   },
   "outputs": [
    {
     "data": {
      "image/png": "[encoded data removed]",
      "text/plain": [
       "<Figure size 432x288 with 1 Axes>"
      ]
     },
     "metadata": {
      "needs_background": "light"
     },
     "output_type": "display_data"
    }
   ],
   "source": [
    "# Female or Male?\n",
    "plt.title('Female or Male')\n",
    "sns.countplot(y='Male', data=df_attr, color=\"c\")\n",
    "plt.show()"
   ]
  },
  {
   "cell_type": "code",
   "execution_count": 6,
   "id": "f5b37f5f",
   "metadata": {
    "execution": {
     "iopub.execute_input": "2022-05-07T02:06:31.251709Z",
     "iopub.status.busy": "2022-05-07T02:06:31.251167Z",
     "iopub.status.idle": "2022-05-07T02:06:31.483267Z",
     "shell.execute_reply": "2022-05-07T02:06:31.482456Z"
    },
    "papermill": {
     "duration": 0.271355,
     "end_time": "2022-05-07T02:06:31.485562",
     "exception": false,
     "start_time": "2022-05-07T02:06:31.214207",
     "status": "completed"
    },
    "tags": []
   },
   "outputs": [
    {
     "data": {
      "text/html": [
       "<div>\n",
       "<style scoped>\n",
       "    .dataframe tbody tr th:only-of-type {\n",
       "        vertical-align: middle;\n",
       "    }\n",
       "\n",
       "    .dataframe tbody tr th {\n",
       "        vertical-align: top;\n",
       "    }\n",
       "\n",
       "    .dataframe thead th {\n",
       "        text-align: right;\n",
       "    }\n",
       "</style>\n",
       "<table border=\"1\" class=\"dataframe\">\n",
       "  <thead>\n",
       "    <tr style=\"text-align: right;\">\n",
       "      <th></th>\n",
       "      <th>image_id</th>\n",
       "      <th>partition</th>\n",
       "    </tr>\n",
       "  </thead>\n",
       "  <tbody>\n",
       "    <tr>\n",
       "      <th>0</th>\n",
       "      <td>000001.jpg</td>\n",
       "      <td>0</td>\n",
       "    </tr>\n",
       "    <tr>\n",
       "      <th>1</th>\n",
       "      <td>000002.jpg</td>\n",
       "      <td>0</td>\n",
       "    </tr>\n",
       "    <tr>\n",
       "      <th>2</th>\n",
       "      <td>000003.jpg</td>\n",
       "      <td>0</td>\n",
       "    </tr>\n",
       "    <tr>\n",
       "      <th>3</th>\n",
       "      <td>000004.jpg</td>\n",
       "      <td>0</td>\n",
       "    </tr>\n",
       "    <tr>\n",
       "      <th>4</th>\n",
       "      <td>000005.jpg</td>\n",
       "      <td>0</td>\n",
       "    </tr>\n",
       "  </tbody>\n",
       "</table>\n",
       "</div>"
      ],
      "text/plain": [
       "     image_id  partition\n",
       "0  000001.jpg          0\n",
       "1  000002.jpg          0\n",
       "2  000003.jpg          0\n",
       "3  000004.jpg          0\n",
       "4  000005.jpg          0"
      ]
     },
     "execution_count": 6,
     "metadata": {},
     "output_type": "execute_result"
    }
   ],
   "source": [
    "# Recomended partition\n",
    "df_partition = pd.read_csv(main_folder + 'list_eval_partition.csv')\n",
    "df_partition.head()"
   ]
  },
  {
   "cell_type": "code",
   "execution_count": 7,
   "id": "306bbac2",
   "metadata": {
    "execution": {
     "iopub.execute_input": "2022-05-07T02:06:31.558752Z",
     "iopub.status.busy": "2022-05-07T02:06:31.558151Z",
     "iopub.status.idle": "2022-05-07T02:06:31.571461Z",
     "shell.execute_reply": "2022-05-07T02:06:31.570543Z"
    },
    "papermill": {
     "duration": 0.052003,
     "end_time": "2022-05-07T02:06:31.573564",
     "exception": false,
     "start_time": "2022-05-07T02:06:31.521561",
     "status": "completed"
    },
    "tags": []
   },
   "outputs": [
    {
     "data": {
      "text/plain": [
       "0    162770\n",
       "1     19867\n",
       "2     19962\n",
       "Name: partition, dtype: int64"
      ]
     },
     "execution_count": 7,
     "metadata": {},
     "output_type": "execute_result"
    }
   ],
   "source": [
    "df_partition['partition'].value_counts().sort_index()"
   ]
  },
  {
   "cell_type": "code",
   "execution_count": 8,
   "id": "87e52f05",
   "metadata": {
    "execution": {
     "iopub.execute_input": "2022-05-07T02:06:31.646840Z",
     "iopub.status.busy": "2022-05-07T02:06:31.646242Z",
     "iopub.status.idle": "2022-05-07T02:06:31.782196Z",
     "shell.execute_reply": "2022-05-07T02:06:31.781280Z"
    },
    "papermill": {
     "duration": 0.175288,
     "end_time": "2022-05-07T02:06:31.784363",
     "exception": false,
     "start_time": "2022-05-07T02:06:31.609075",
     "status": "completed"
    },
    "tags": []
   },
   "outputs": [
    {
     "data": {
      "text/html": [
       "<div>\n",
       "<style scoped>\n",
       "    .dataframe tbody tr th:only-of-type {\n",
       "        vertical-align: middle;\n",
       "    }\n",
       "\n",
       "    .dataframe tbody tr th {\n",
       "        vertical-align: top;\n",
       "    }\n",
       "\n",
       "    .dataframe thead th {\n",
       "        text-align: right;\n",
       "    }\n",
       "</style>\n",
       "<table border=\"1\" class=\"dataframe\">\n",
       "  <thead>\n",
       "    <tr style=\"text-align: right;\">\n",
       "      <th></th>\n",
       "      <th>partition</th>\n",
       "      <th>Male</th>\n",
       "    </tr>\n",
       "    <tr>\n",
       "      <th>image_id</th>\n",
       "      <th></th>\n",
       "      <th></th>\n",
       "    </tr>\n",
       "  </thead>\n",
       "  <tbody>\n",
       "    <tr>\n",
       "      <th>000001.jpg</th>\n",
       "      <td>0</td>\n",
       "      <td>0</td>\n",
       "    </tr>\n",
       "    <tr>\n",
       "      <th>000002.jpg</th>\n",
       "      <td>0</td>\n",
       "      <td>0</td>\n",
       "    </tr>\n",
       "    <tr>\n",
       "      <th>000003.jpg</th>\n",
       "      <td>0</td>\n",
       "      <td>1</td>\n",
       "    </tr>\n",
       "    <tr>\n",
       "      <th>000004.jpg</th>\n",
       "      <td>0</td>\n",
       "      <td>0</td>\n",
       "    </tr>\n",
       "    <tr>\n",
       "      <th>000005.jpg</th>\n",
       "      <td>0</td>\n",
       "      <td>0</td>\n",
       "    </tr>\n",
       "  </tbody>\n",
       "</table>\n",
       "</div>"
      ],
      "text/plain": [
       "            partition  Male\n",
       "image_id                   \n",
       "000001.jpg          0     0\n",
       "000002.jpg          0     0\n",
       "000003.jpg          0     1\n",
       "000004.jpg          0     0\n",
       "000005.jpg          0     0"
      ]
     },
     "execution_count": 8,
     "metadata": {},
     "output_type": "execute_result"
    }
   ],
   "source": [
    "df_partition.set_index('image_id', inplace=True)\n",
    "df_par_attr = df_partition.join(df_attr['Male'], how='inner')\n",
    "df_par_attr.head()"
   ]
  },
  {
   "cell_type": "code",
   "execution_count": 9,
   "id": "d62e2dd9",
   "metadata": {
    "execution": {
     "iopub.execute_input": "2022-05-07T02:06:31.859263Z",
     "iopub.status.busy": "2022-05-07T02:06:31.858450Z",
     "iopub.status.idle": "2022-05-07T02:06:31.879832Z",
     "shell.execute_reply": "2022-05-07T02:06:31.878958Z"
    },
    "papermill": {
     "duration": 0.061779,
     "end_time": "2022-05-07T02:06:31.882189",
     "exception": false,
     "start_time": "2022-05-07T02:06:31.820410",
     "status": "completed"
    },
    "tags": []
   },
   "outputs": [],
   "source": [
    "df_train = df_par_attr[(df_par_attr['partition'] == 0) \n",
    "                           & (df_par_attr[\"Male\"] == 0)].sample(int(TRAINING_SAMPLES/2))"
   ]
  },
  {
   "cell_type": "code",
   "execution_count": 10,
   "id": "2d2a433a",
   "metadata": {
    "execution": {
     "iopub.execute_input": "2022-05-07T02:06:31.956548Z",
     "iopub.status.busy": "2022-05-07T02:06:31.956052Z",
     "iopub.status.idle": "2022-05-07T02:06:31.972335Z",
     "shell.execute_reply": "2022-05-07T02:06:31.971653Z"
    },
    "papermill": {
     "duration": 0.056206,
     "end_time": "2022-05-07T02:06:31.974529",
     "exception": false,
     "start_time": "2022-05-07T02:06:31.918323",
     "status": "completed"
    },
    "tags": []
   },
   "outputs": [],
   "source": [
    "df_train = pd.concat([df_train,\n",
    "                      df_par_attr[(df_par_attr['partition'] == 0) \n",
    "                                  & (df_par_attr[\"Male\"] == 1)].sample(int(TRAINING_SAMPLES/2))])"
   ]
  },
  {
   "cell_type": "code",
   "execution_count": 11,
   "id": "f3ba8fec",
   "metadata": {
    "execution": {
     "iopub.execute_input": "2022-05-07T02:06:32.048332Z",
     "iopub.status.busy": "2022-05-07T02:06:32.047877Z",
     "iopub.status.idle": "2022-05-07T02:06:32.059566Z",
     "shell.execute_reply": "2022-05-07T02:06:32.058898Z"
    },
    "papermill": {
     "duration": 0.05094,
     "end_time": "2022-05-07T02:06:32.061390",
     "exception": false,
     "start_time": "2022-05-07T02:06:32.010450",
     "status": "completed"
    },
    "tags": []
   },
   "outputs": [
    {
     "data": {
      "text/html": [
       "<div>\n",
       "<style scoped>\n",
       "    .dataframe tbody tr th:only-of-type {\n",
       "        vertical-align: middle;\n",
       "    }\n",
       "\n",
       "    .dataframe tbody tr th {\n",
       "        vertical-align: top;\n",
       "    }\n",
       "\n",
       "    .dataframe thead th {\n",
       "        text-align: right;\n",
       "    }\n",
       "</style>\n",
       "<table border=\"1\" class=\"dataframe\">\n",
       "  <thead>\n",
       "    <tr style=\"text-align: right;\">\n",
       "      <th></th>\n",
       "      <th>partition</th>\n",
       "      <th>Male</th>\n",
       "    </tr>\n",
       "    <tr>\n",
       "      <th>image_id</th>\n",
       "      <th></th>\n",
       "      <th></th>\n",
       "    </tr>\n",
       "  </thead>\n",
       "  <tbody>\n",
       "    <tr>\n",
       "      <th>045366.jpg</th>\n",
       "      <td>0</td>\n",
       "      <td>0</td>\n",
       "    </tr>\n",
       "    <tr>\n",
       "      <th>109084.jpg</th>\n",
       "      <td>0</td>\n",
       "      <td>0</td>\n",
       "    </tr>\n",
       "    <tr>\n",
       "      <th>060325.jpg</th>\n",
       "      <td>0</td>\n",
       "      <td>0</td>\n",
       "    </tr>\n",
       "    <tr>\n",
       "      <th>015225.jpg</th>\n",
       "      <td>0</td>\n",
       "      <td>0</td>\n",
       "    </tr>\n",
       "    <tr>\n",
       "      <th>083440.jpg</th>\n",
       "      <td>0</td>\n",
       "      <td>0</td>\n",
       "    </tr>\n",
       "    <tr>\n",
       "      <th>...</th>\n",
       "      <td>...</td>\n",
       "      <td>...</td>\n",
       "    </tr>\n",
       "    <tr>\n",
       "      <th>084027.jpg</th>\n",
       "      <td>0</td>\n",
       "      <td>1</td>\n",
       "    </tr>\n",
       "    <tr>\n",
       "      <th>121098.jpg</th>\n",
       "      <td>0</td>\n",
       "      <td>1</td>\n",
       "    </tr>\n",
       "    <tr>\n",
       "      <th>051505.jpg</th>\n",
       "      <td>0</td>\n",
       "      <td>1</td>\n",
       "    </tr>\n",
       "    <tr>\n",
       "      <th>122742.jpg</th>\n",
       "      <td>0</td>\n",
       "      <td>1</td>\n",
       "    </tr>\n",
       "    <tr>\n",
       "      <th>099693.jpg</th>\n",
       "      <td>0</td>\n",
       "      <td>1</td>\n",
       "    </tr>\n",
       "  </tbody>\n",
       "</table>\n",
       "<p>10000 rows × 2 columns</p>\n",
       "</div>"
      ],
      "text/plain": [
       "            partition  Male\n",
       "image_id                   \n",
       "045366.jpg          0     0\n",
       "109084.jpg          0     0\n",
       "060325.jpg          0     0\n",
       "015225.jpg          0     0\n",
       "083440.jpg          0     0\n",
       "...               ...   ...\n",
       "084027.jpg          0     1\n",
       "121098.jpg          0     1\n",
       "051505.jpg          0     1\n",
       "122742.jpg          0     1\n",
       "099693.jpg          0     1\n",
       "\n",
       "[10000 rows x 2 columns]"
      ]
     },
     "execution_count": 11,
     "metadata": {},
     "output_type": "execute_result"
    }
   ],
   "source": [
    "df_train"
   ]
  },
  {
   "cell_type": "markdown",
   "id": "be53dc5c",
   "metadata": {
    "papermill": {
     "duration": 0.037291,
     "end_time": "2022-05-07T02:06:32.136301",
     "exception": false,
     "start_time": "2022-05-07T02:06:32.099010",
     "status": "completed"
    },
    "tags": []
   },
   "source": [
    "# Loading Images and converting into array and gray scale"
   ]
  },
  {
   "cell_type": "code",
   "execution_count": 12,
   "id": "8a96b552",
   "metadata": {
    "execution": {
     "iopub.execute_input": "2022-05-07T02:06:32.211619Z",
     "iopub.status.busy": "2022-05-07T02:06:32.210581Z",
     "iopub.status.idle": "2022-05-07T02:06:32.215623Z",
     "shell.execute_reply": "2022-05-07T02:06:32.214998Z"
    },
    "papermill": {
     "duration": 0.044452,
     "end_time": "2022-05-07T02:06:32.217410",
     "exception": false,
     "start_time": "2022-05-07T02:06:32.172958",
     "status": "completed"
    },
    "tags": []
   },
   "outputs": [],
   "source": [
    "def load_reshape_img(fname):\n",
    "    img = load_img(fname)\n",
    "    x = img_to_array(img)/255.\n",
    "    x = x.reshape((1,) + x.shape)\n",
    "    #x = [color.rgb2gray(i) for i in x]\n",
    "    return x"
   ]
  },
  {
   "cell_type": "code",
   "execution_count": 13,
   "id": "69b09e05",
   "metadata": {
    "execution": {
     "iopub.execute_input": "2022-05-07T02:06:32.292212Z",
     "iopub.status.busy": "2022-05-07T02:06:32.291624Z",
     "iopub.status.idle": "2022-05-07T02:07:25.674392Z",
     "shell.execute_reply": "2022-05-07T02:07:25.673339Z"
    },
    "papermill": {
     "duration": 53.423973,
     "end_time": "2022-05-07T02:07:25.677807",
     "exception": false,
     "start_time": "2022-05-07T02:06:32.253834",
     "status": "completed"
    },
    "tags": []
   },
   "outputs": [],
   "source": [
    "x_train = np.array([load_reshape_img(images_folder + fname) for fname in df_train.index])\n"
   ]
  },
  {
   "cell_type": "code",
   "execution_count": 14,
   "id": "4ff3aaf0",
   "metadata": {
    "execution": {
     "iopub.execute_input": "2022-05-07T02:07:25.755302Z",
     "iopub.status.busy": "2022-05-07T02:07:25.754226Z",
     "iopub.status.idle": "2022-05-07T02:07:25.760346Z",
     "shell.execute_reply": "2022-05-07T02:07:25.759485Z"
    },
    "papermill": {
     "duration": 0.047634,
     "end_time": "2022-05-07T02:07:25.762941",
     "exception": false,
     "start_time": "2022-05-07T02:07:25.715307",
     "status": "completed"
    },
    "tags": []
   },
   "outputs": [],
   "source": [
    "x_train = x_train.reshape(x_train.shape[0], 218, 178, 3)"
   ]
  },
  {
   "cell_type": "code",
   "execution_count": 15,
   "id": "86fafbdf",
   "metadata": {
    "execution": {
     "iopub.execute_input": "2022-05-07T02:07:25.838558Z",
     "iopub.status.busy": "2022-05-07T02:07:25.837669Z",
     "iopub.status.idle": "2022-05-07T02:07:27.886894Z",
     "shell.execute_reply": "2022-05-07T02:07:27.885982Z"
    },
    "papermill": {
     "duration": 2.090042,
     "end_time": "2022-05-07T02:07:27.889645",
     "exception": false,
     "start_time": "2022-05-07T02:07:25.799603",
     "status": "completed"
    },
    "tags": []
   },
   "outputs": [],
   "source": [
    "x_train = [ color.rgb2gray(i) for i in x_train]"
   ]
  },
  {
   "cell_type": "markdown",
   "id": "74646b5e",
   "metadata": {
    "papermill": {
     "duration": 0.036016,
     "end_time": "2022-05-07T02:07:27.961959",
     "exception": false,
     "start_time": "2022-05-07T02:07:27.925943",
     "status": "completed"
    },
    "tags": []
   },
   "source": []
  },
  {
   "cell_type": "markdown",
   "id": "d33d24c0",
   "metadata": {
    "papermill": {
     "duration": 0.035854,
     "end_time": "2022-05-07T02:07:28.034953",
     "exception": false,
     "start_time": "2022-05-07T02:07:27.999099",
     "status": "completed"
    },
    "tags": []
   },
   "source": [
    "# Loading labels"
   ]
  },
  {
   "cell_type": "code",
   "execution_count": 16,
   "id": "293f789c",
   "metadata": {
    "execution": {
     "iopub.execute_input": "2022-05-07T02:07:28.111055Z",
     "iopub.status.busy": "2022-05-07T02:07:28.110749Z",
     "iopub.status.idle": "2022-05-07T02:07:28.115719Z",
     "shell.execute_reply": "2022-05-07T02:07:28.115104Z"
    },
    "papermill": {
     "duration": 0.045158,
     "end_time": "2022-05-07T02:07:28.117500",
     "exception": false,
     "start_time": "2022-05-07T02:07:28.072342",
     "status": "completed"
    },
    "tags": []
   },
   "outputs": [],
   "source": [
    "import numpy as np\n",
    "y_train = np.array(df_train[\"Male\"])"
   ]
  },
  {
   "cell_type": "code",
   "execution_count": 17,
   "id": "399466cd",
   "metadata": {
    "execution": {
     "iopub.execute_input": "2022-05-07T02:07:28.192594Z",
     "iopub.status.busy": "2022-05-07T02:07:28.192045Z",
     "iopub.status.idle": "2022-05-07T02:07:28.198771Z",
     "shell.execute_reply": "2022-05-07T02:07:28.197841Z"
    },
    "papermill": {
     "duration": 0.046735,
     "end_time": "2022-05-07T02:07:28.200640",
     "exception": false,
     "start_time": "2022-05-07T02:07:28.153905",
     "status": "completed"
    },
    "tags": []
   },
   "outputs": [
    {
     "data": {
      "text/plain": [
       "array([0, 0, 0, ..., 1, 1, 1])"
      ]
     },
     "execution_count": 17,
     "metadata": {},
     "output_type": "execute_result"
    }
   ],
   "source": [
    "y_train"
   ]
  },
  {
   "cell_type": "code",
   "execution_count": 18,
   "id": "93a958e7",
   "metadata": {
    "execution": {
     "iopub.execute_input": "2022-05-07T02:07:28.275519Z",
     "iopub.status.busy": "2022-05-07T02:07:28.275011Z",
     "iopub.status.idle": "2022-05-07T02:07:28.656849Z",
     "shell.execute_reply": "2022-05-07T02:07:28.655951Z"
    },
    "papermill": {
     "duration": 0.422304,
     "end_time": "2022-05-07T02:07:28.659378",
     "exception": false,
     "start_time": "2022-05-07T02:07:28.237074",
     "status": "completed"
    },
    "tags": []
   },
   "outputs": [],
   "source": [
    "#from keras.utils import to_categorical\n",
    "from tensorflow.keras.utils import to_categorical\n",
    "y_train = to_categorical(y_train)"
   ]
  },
  {
   "cell_type": "code",
   "execution_count": 19,
   "id": "0225c21d",
   "metadata": {
    "execution": {
     "iopub.execute_input": "2022-05-07T02:07:28.735291Z",
     "iopub.status.busy": "2022-05-07T02:07:28.734944Z",
     "iopub.status.idle": "2022-05-07T02:07:28.744740Z",
     "shell.execute_reply": "2022-05-07T02:07:28.743887Z"
    },
    "papermill": {
     "duration": 0.049694,
     "end_time": "2022-05-07T02:07:28.746928",
     "exception": false,
     "start_time": "2022-05-07T02:07:28.697234",
     "status": "completed"
    },
    "tags": []
   },
   "outputs": [],
   "source": [
    "df_validate = df_par_attr[(df_par_attr['partition'] == 1) \n",
    "                           & (df_par_attr[\"Male\"] == 0)].sample(int(VALIDATION_SAMPLES/2))"
   ]
  },
  {
   "cell_type": "code",
   "execution_count": 20,
   "id": "2c7d3a20",
   "metadata": {
    "execution": {
     "iopub.execute_input": "2022-05-07T02:07:28.823204Z",
     "iopub.status.busy": "2022-05-07T02:07:28.822614Z",
     "iopub.status.idle": "2022-05-07T02:07:29.206593Z",
     "shell.execute_reply": "2022-05-07T02:07:29.205597Z"
    },
    "papermill": {
     "duration": 0.423412,
     "end_time": "2022-05-07T02:07:29.207945",
     "exception": true,
     "start_time": "2022-05-07T02:07:28.784533",
     "status": "failed"
    },
    "tags": []
   },
   "outputs": [
    {
     "ename": "NameError",
     "evalue": "name 'x_validate' is not defined",
     "output_type": "error",
     "traceback": [
      "\u001b[0;31m---------------------------------------------------------------------------\u001b[0m",
      "\u001b[0;31mNameError\u001b[0m                                 Traceback (most recent call last)",
      "\u001b[0;32m/tmp/ipykernel_19/722213101.py\u001b[0m in \u001b[0;36m<module>\u001b[0;34m\u001b[0m\n\u001b[0;32m----> 1\u001b[0;31m \u001b[0mx_validate\u001b[0m \u001b[0;34m=\u001b[0m \u001b[0mx_validate\u001b[0m\u001b[0;34m.\u001b[0m\u001b[0mreshape\u001b[0m\u001b[0;34m(\u001b[0m\u001b[0mx_validate\u001b[0m\u001b[0;34m.\u001b[0m\u001b[0mshape\u001b[0m\u001b[0;34m[\u001b[0m\u001b[0;36m0\u001b[0m\u001b[0;34m]\u001b[0m\u001b[0;34m,\u001b[0m \u001b[0;36m218\u001b[0m\u001b[0;34m,\u001b[0m \u001b[0;36m178\u001b[0m\u001b[0;34m,\u001b[0m \u001b[0;36m3\u001b[0m\u001b[0;34m)\u001b[0m\u001b[0;34m\u001b[0m\u001b[0;34m\u001b[0m\u001b[0m\n\u001b[0m",
      "\u001b[0;31mNameError\u001b[0m: name 'x_validate' is not defined"
     ]
    }
   ],
   "source": [
    "x_validate = x_validate.reshape(x_validate.shape[0], 218, 178, 3)"
   ]
  },
  {
   "cell_type": "code",
   "execution_count": null,
   "id": "f7b7e484",
   "metadata": {
    "execution": {
     "iopub.execute_input": "2022-05-07T01:27:57.912984Z",
     "iopub.status.busy": "2022-05-07T01:27:57.912691Z",
     "iopub.status.idle": "2022-05-07T01:27:57.928788Z",
     "shell.execute_reply": "2022-05-07T01:27:57.927279Z",
     "shell.execute_reply.started": "2022-05-07T01:27:57.912953Z"
    },
    "papermill": {
     "duration": null,
     "end_time": null,
     "exception": null,
     "start_time": null,
     "status": "pending"
    },
    "tags": []
   },
   "outputs": [],
   "source": [
    "y_validate = np.array(df_evaluate[\"Male\"])"
   ]
  },
  {
   "cell_type": "markdown",
   "id": "49ddf9c6",
   "metadata": {
    "papermill": {
     "duration": null,
     "end_time": null,
     "exception": null,
     "start_time": null,
     "status": "pending"
    },
    "tags": []
   },
   "source": [
    "# HOG features extraction"
   ]
  },
  {
   "cell_type": "code",
   "execution_count": null,
   "id": "ca58df3e",
   "metadata": {
    "execution": {
     "iopub.execute_input": "2022-05-07T00:57:25.241632Z",
     "iopub.status.busy": "2022-05-07T00:57:25.241325Z",
     "iopub.status.idle": "2022-05-07T01:02:37.615047Z",
     "shell.execute_reply": "2022-05-07T01:02:37.612995Z",
     "shell.execute_reply.started": "2022-05-07T00:57:25.241604Z"
    },
    "papermill": {
     "duration": null,
     "end_time": null,
     "exception": null,
     "start_time": null,
     "status": "pending"
    },
    "tags": []
   },
   "outputs": [],
   "source": [
    "ppc = 16\n",
    "hog_images = []\n",
    "hog_features = []\n",
    "for image in x_train:\n",
    "    fd,hog_image = hog(image, orientations=8, pixels_per_cell=(ppc,ppc),cells_per_block=(4, 4),block_norm= 'L2',visualize=True)\n",
    "    hog_images.append(hog_image)\n",
    "    hog_features.append(fd)"
   ]
  },
  {
   "cell_type": "code",
   "execution_count": null,
   "id": "ce237a27",
   "metadata": {
    "execution": {
     "iopub.execute_input": "2022-05-07T01:04:19.054420Z",
     "iopub.status.busy": "2022-05-07T01:04:19.054028Z",
     "iopub.status.idle": "2022-05-07T01:04:19.341721Z",
     "shell.execute_reply": "2022-05-07T01:04:19.338996Z",
     "shell.execute_reply.started": "2022-05-07T01:04:19.054390Z"
    },
    "papermill": {
     "duration": null,
     "end_time": null,
     "exception": null,
     "start_time": null,
     "status": "pending"
    },
    "tags": []
   },
   "outputs": [],
   "source": [
    "plt.imshow(hog_images[51])"
   ]
  },
  {
   "cell_type": "code",
   "execution_count": null,
   "id": "07372e8d",
   "metadata": {
    "execution": {
     "iopub.execute_input": "2022-05-07T01:34:12.757673Z",
     "iopub.status.busy": "2022-05-07T01:34:12.756545Z",
     "iopub.status.idle": "2022-05-07T01:34:12.992183Z",
     "shell.execute_reply": "2022-05-07T01:34:12.991327Z",
     "shell.execute_reply.started": "2022-05-07T01:34:12.757564Z"
    },
    "papermill": {
     "duration": null,
     "end_time": null,
     "exception": null,
     "start_time": null,
     "status": "pending"
    },
    "tags": []
   },
   "outputs": [],
   "source": [
    "clf = svm.SVC()\n",
    "hog_features = np.array(hog_features)\n",
    "data_frame = np.hstack((hog_features,y_train))\n",
    "np.random.shuffle(data_frame)"
   ]
  },
  {
   "cell_type": "code",
   "execution_count": null,
   "id": "b931a5c3",
   "metadata": {
    "execution": {
     "iopub.execute_input": "2022-05-07T01:34:33.888224Z",
     "iopub.status.busy": "2022-05-07T01:34:33.887814Z",
     "iopub.status.idle": "2022-05-07T01:34:33.893400Z",
     "shell.execute_reply": "2022-05-07T01:34:33.892101Z",
     "shell.execute_reply.started": "2022-05-07T01:34:33.888189Z"
    },
    "papermill": {
     "duration": null,
     "end_time": null,
     "exception": null,
     "start_time": null,
     "status": "pending"
    },
    "tags": []
   },
   "outputs": [],
   "source": [
    "percentage = 80\n",
    "partition = int(len(hog_features)*percentage/100)"
   ]
  },
  {
   "cell_type": "code",
   "execution_count": null,
   "id": "df47bff8",
   "metadata": {
    "execution": {
     "iopub.execute_input": "2022-05-07T01:35:16.508720Z",
     "iopub.status.busy": "2022-05-07T01:35:16.507891Z",
     "iopub.status.idle": "2022-05-07T01:36:55.990262Z",
     "shell.execute_reply": "2022-05-07T01:36:55.988878Z",
     "shell.execute_reply.started": "2022-05-07T01:35:16.508683Z"
    },
    "papermill": {
     "duration": null,
     "end_time": null,
     "exception": null,
     "start_time": null,
     "status": "pending"
    },
    "tags": []
   },
   "outputs": [],
   "source": [
    "x_train_data, x_test_data = data_frame[:partition,:-1],  data_frame[partition:,:-1]\n",
    "y_train_data, y_test_data = data_frame[:partition,-1:].ravel() , data_frame[partition:,-1:].ravel()\n",
    "\n",
    "clf.fit(x_train_data,y_train_data)"
   ]
  },
  {
   "cell_type": "code",
   "execution_count": null,
   "id": "618f755b",
   "metadata": {
    "execution": {
     "iopub.execute_input": "2022-05-07T01:37:08.957769Z",
     "iopub.status.busy": "2022-05-07T01:37:08.957463Z",
     "iopub.status.idle": "2022-05-07T01:39:21.775987Z",
     "shell.execute_reply": "2022-05-07T01:39:21.775170Z",
     "shell.execute_reply.started": "2022-05-07T01:37:08.957737Z"
    },
    "papermill": {
     "duration": null,
     "end_time": null,
     "exception": null,
     "start_time": null,
     "status": "pending"
    },
    "tags": []
   },
   "outputs": [],
   "source": [
    "y_pred = clf.predict(x_test_data)"
   ]
  },
  {
   "cell_type": "code",
   "execution_count": null,
   "id": "a26e00bd",
   "metadata": {
    "execution": {
     "iopub.execute_input": "2022-05-07T01:39:54.562295Z",
     "iopub.status.busy": "2022-05-07T01:39:54.561957Z",
     "iopub.status.idle": "2022-05-07T01:39:54.581291Z",
     "shell.execute_reply": "2022-05-07T01:39:54.580047Z",
     "shell.execute_reply.started": "2022-05-07T01:39:54.562264Z"
    },
    "papermill": {
     "duration": null,
     "end_time": null,
     "exception": null,
     "start_time": null,
     "status": "pending"
    },
    "tags": []
   },
   "outputs": [],
   "source": [
    "print(\"Accuracy: \"+str(accuracy_score(y_test_data, y_pred)))\n",
    "print('\\n')\n",
    "print(classification_report(y_test_data, y_pred))"
   ]
  },
  {
   "cell_type": "code",
   "execution_count": null,
   "id": "e0cb958f",
   "metadata": {
    "papermill": {
     "duration": null,
     "end_time": null,
     "exception": null,
     "start_time": null,
     "status": "pending"
    },
    "tags": []
   },
   "outputs": [],
   "source": []
  }
 ],
 "metadata": {
  "kernelspec": {
   "display_name": "Python 3",
   "language": "python",
   "name": "python3"
  },
  "language_info": {
   "codemirror_mode": {
    "name": "ipython",
    "version": 3
   },
   "file_extension": ".py",
   "mimetype": "text/x-python",
   "name": "python",
   "nbconvert_exporter": "python",
   "pygments_lexer": "ipython3",
   "version": "3.7.12"
  },
  "papermill": {
   "default_parameters": {},
   "duration": 81.671474,
   "end_time": "2022-05-07T02:07:32.691245",
   "environment_variables": {},
   "exception": true,
   "input_path": "__notebook__.ipynb",
   "output_path": "__notebook__.ipynb",
   "parameters": {},
   "start_time": "2022-05-07T02:06:11.019771",
   "version": "2.3.4"
  }
 },
 "nbformat": 4,
 "nbformat_minor": 5
}
